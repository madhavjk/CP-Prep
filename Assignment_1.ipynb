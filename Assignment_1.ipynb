{
  "nbformat": 4,
  "nbformat_minor": 0,
  "metadata": {
    "language_info": {
      "codemirror_mode": {
        "name": "ipython",
        "version": 3
      },
      "file_extension": ".py",
      "mimetype": "text/x-python",
      "name": "python",
      "nbconvert_exporter": "python",
      "pygments_lexer": "ipython3",
      "version": "3.8.5"
    },
    "orig_nbformat": 2,
    "kernelspec": {
      "name": "python3",
      "display_name": "Python 3.8.5 64-bit ('base': conda)"
    },
    "interpreter": {
      "hash": "cd2cf95eab98bc0aed90d7d4dceee09ebf5cdc1e2081a14507931389ba1690a4"
    },
    "colab": {
      "name": "Assignment 1.ipynb",
      "provenance": []
    }
  },
  "cells": [
    {
      "cell_type": "markdown",
      "metadata": {
        "id": "0Jo-TvyDGrNH"
      },
      "source": [
        "# Answer 1"
      ]
    },
    {
      "cell_type": "code",
      "metadata": {
        "id": "sRA5c1ruGrNR"
      },
      "source": [
        "n = int (input(\" Input number: \"))\n",
        "for i in range(n):\n",
        "    for j in range(n-i):\n",
        "        print(n, end = ' ')\n",
        "    print()"
      ],
      "execution_count": null,
      "outputs": []
    },
    {
      "cell_type": "markdown",
      "metadata": {
        "id": "_sk12-QYGrNV"
      },
      "source": [
        "# Answer 2"
      ]
    },
    {
      "cell_type": "code",
      "metadata": {
        "id": "yYB8_yS3GrNX"
      },
      "source": [
        "n = int (input(\" Input number: \"))\n",
        "for i in range(n):\n",
        "    for j in range(n-i+1):\n",
        "        print(j, end = ' ')\n",
        "    print()"
      ],
      "execution_count": null,
      "outputs": []
    },
    {
      "cell_type": "markdown",
      "metadata": {
        "id": "gdegXeD4GrNY"
      },
      "source": [
        "# Answer 3"
      ]
    },
    {
      "cell_type": "code",
      "metadata": {
        "id": "gtgpZreBGrNY"
      },
      "source": [
        "n = 5\n",
        "i = 1\n",
        "while i <= n:\n",
        "    j = 1\n",
        "    while j <= i:\n",
        "        print((i * 2 - 1), end=\" \")\n",
        "        j = j + 1\n",
        "    i = i + 1\n",
        "    print('')"
      ],
      "execution_count": null,
      "outputs": []
    },
    {
      "cell_type": "markdown",
      "metadata": {
        "id": "KniB13YBGrNZ"
      },
      "source": [
        "# Answer 4"
      ]
    },
    {
      "cell_type": "code",
      "metadata": {
        "id": "y364QfwcGrNa"
      },
      "source": [
        "n = int (input(\" Input number: \"))\n",
        "for i in range (n):\n",
        "    for j in range (i,-1,-1):\n",
        "        print(j+1, end = ' ')\n",
        "    print()"
      ],
      "execution_count": null,
      "outputs": []
    },
    {
      "cell_type": "markdown",
      "metadata": {
        "id": "KmEmU3F8GrNb"
      },
      "source": [
        "# Answer 5"
      ]
    },
    {
      "cell_type": "code",
      "metadata": {
        "id": "_4-p1o0KGrNc",
        "outputId": "ccf821ba-46c1-4bc3-f4d3-da86e60d8dc8"
      },
      "source": [
        "a = 1\n",
        "b = 2\n",
        "n = b\n",
        "for row in range(2, 6):\n",
        "    for col in range(a, b):\n",
        "        n -= 1\n",
        "        print(n, end=' ')\n",
        "    print(\"\")\n",
        "    a = b\n",
        "    b += row\n",
        "    n = b"
      ],
      "execution_count": null,
      "outputs": [
        {
          "output_type": "stream",
          "name": "stdout",
          "text": [
            "1 \n3 2 \n6 5 4 \n10 9 8 7 \n"
          ]
        }
      ]
    },
    {
      "cell_type": "markdown",
      "metadata": {
        "id": "X0UMmeaoGrNe"
      },
      "source": [
        "# Answer 6"
      ]
    },
    {
      "cell_type": "code",
      "metadata": {
        "id": "S3v4WZnrGrNf",
        "outputId": "87d5a653-9267-4cd9-f7de-ea4d8975760e"
      },
      "source": [
        "def printPascal(n) :\n",
        "    for line in range(0, n) :\n",
        "        for i in range(0, line + 1) :\n",
        "            print(binomialCoeff(line, i),\n",
        "                \" \", end = \"\")\n",
        "        print()\n",
        "def binomialCoeff(n, k) :\n",
        "    res = 1\n",
        "    if (k > n - k) :\n",
        "        k = n - k\n",
        "    for i in range(0 , k) :\n",
        "        res = res * (n - i)\n",
        "        res = res // (i + 1)\n",
        "    return res\n",
        "n = 7\n",
        "printPascal(n)"
      ],
      "execution_count": null,
      "outputs": [
        {
          "output_type": "stream",
          "name": "stdout",
          "text": [
            "1  \n1  1  \n1  2  1  \n1  3  3  1  \n1  4  6  4  1  \n1  5  10  10  5  1  \n1  6  15  20  15  6  1  \n"
          ]
        }
      ]
    },
    {
      "cell_type": "markdown",
      "metadata": {
        "id": "Ao8TknMAGrNg"
      },
      "source": [
        "# Answer 7"
      ]
    },
    {
      "cell_type": "code",
      "metadata": {
        "id": "iPguZFKuGrNh",
        "outputId": "23225d29-8da6-4c1f-fe70-4eaedc7d06f3"
      },
      "source": [
        "r = 5\n",
        "for i in range(1, r + 1):\n",
        "    for j in range(1, r + 1):\n",
        "        if j <= i:\n",
        "            print(i, end=' ')\n",
        "        else:\n",
        "            print(j, end=' ')\n",
        "    print()"
      ],
      "execution_count": null,
      "outputs": [
        {
          "output_type": "stream",
          "name": "stdout",
          "text": [
            "1 2 3 4 5 \n2 2 3 4 5 \n3 3 3 4 5 \n4 4 4 4 5 \n5 5 5 5 5 \n"
          ]
        }
      ]
    },
    {
      "cell_type": "markdown",
      "metadata": {
        "id": "RY3u3AzYGrNi"
      },
      "source": [
        "# Answer 8"
      ]
    },
    {
      "cell_type": "code",
      "metadata": {
        "id": "yXla_WUSGrNi",
        "outputId": "6f410ba4-46aa-46ee-c45e-a5aee42fbe49"
      },
      "source": [
        "r = 8\n",
        "for i in range(1, r + 1):\n",
        "    for j in range(1, i + 1):\n",
        "        square = i * j\n",
        "        print(i * j, end='  ')\n",
        "    print()"
      ],
      "execution_count": null,
      "outputs": [
        {
          "output_type": "stream",
          "name": "stdout",
          "text": [
            "1  \n2  4  \n3  6  9  \n4  8  12  16  \n5  10  15  20  25  \n6  12  18  24  30  36  \n7  14  21  28  35  42  49  \n8  16  24  32  40  48  56  64  \n"
          ]
        }
      ]
    },
    {
      "cell_type": "markdown",
      "metadata": {
        "id": "MgU2y42KGrNj"
      },
      "source": [
        "# Answer 9"
      ]
    },
    {
      "cell_type": "code",
      "metadata": {
        "id": "78Qfv7KWGrNk",
        "outputId": "4517a850-57d9-4cd2-c107-bf94d6e5e72e"
      },
      "source": [
        "r = 5\n",
        "k = 2 * r - 2\n",
        "for i in range(r, -1, -1):\n",
        "    for j in range(k, 0, -1):\n",
        "        print(end=\" \")\n",
        "    k = k + 1\n",
        "    for j in range(0, i + 1):\n",
        "        print(\"*\", end=\" \")\n",
        "    print(\"\")"
      ],
      "execution_count": null,
      "outputs": [
        {
          "output_type": "stream",
          "name": "stdout",
          "text": [
            "        * * * * * * \n         * * * * * \n          * * * * \n           * * * \n            * * \n             * \n"
          ]
        }
      ]
    },
    {
      "cell_type": "markdown",
      "metadata": {
        "id": "9QLoPDRFGrNk"
      },
      "source": [
        "# Answer 10"
      ]
    },
    {
      "cell_type": "code",
      "metadata": {
        "id": "UNVAO5vvGrNl",
        "outputId": "21aae648-9668-4b64-a89c-e5dde04a82d8"
      },
      "source": [
        "size = 7\n",
        "m = (2 * size) - 2\n",
        "for i in range(0, size):\n",
        "    for j in range(0, m):\n",
        "        print(end=\" \")\n",
        "    m = m - 1\n",
        "    for j in range(0, i + 1):\n",
        "        print(\"* \", end=' ')\n",
        "    print(\" \")"
      ],
      "execution_count": null,
      "outputs": [
        {
          "output_type": "stream",
          "name": "stdout",
          "text": [
            "            *   \n           *  *   \n          *  *  *   \n         *  *  *  *   \n        *  *  *  *  *   \n       *  *  *  *  *  *   \n      *  *  *  *  *  *  *   \n"
          ]
        }
      ]
    },
    {
      "cell_type": "markdown",
      "metadata": {
        "id": "McbnNP8HGrNm"
      },
      "source": [
        "# Answer 11"
      ]
    },
    {
      "cell_type": "code",
      "metadata": {
        "id": "t-sUjprMGrNm",
        "outputId": "67183dd7-6be5-4201-c107-fc064d8543cc"
      },
      "source": [
        "r = 6\n",
        "for i in range(0, r):\n",
        "    for j in range(0, i + 1):\n",
        "        print(\"*\", end=' ')\n",
        "    print(\" \")\n",
        "print(\" \")\n",
        "for i in range(r + 1, 0, -1):\n",
        "    for j in range(0, i - 1):\n",
        "        print(\"*\", end=' ')\n",
        "    print(\" \")"
      ],
      "execution_count": null,
      "outputs": [
        {
          "output_type": "stream",
          "name": "stdout",
          "text": [
            "*  \n* *  \n* * *  \n* * * *  \n* * * * *  \n* * * * * *  \n \n* * * * * *  \n* * * * *  \n* * * *  \n* * *  \n* *  \n*  \n \n"
          ]
        }
      ]
    },
    {
      "cell_type": "markdown",
      "metadata": {
        "id": "osfI22AEGrNn"
      },
      "source": [
        "# Answer 12"
      ]
    },
    {
      "cell_type": "code",
      "metadata": {
        "id": "gti-0PHTGrNo",
        "outputId": "e7f79603-c17c-4604-c4c2-1c95567c3c1c"
      },
      "source": [
        "r = 5\n",
        "for i in range(0, r):\n",
        "    for j in range(0, i + 1):\n",
        "        print(\"*\", end=' ')\n",
        "    print()\n",
        "for i in range(r, 0, -1):\n",
        "    for j in range(0, i - 1):\n",
        "        print(\"*\", end=' ')\n",
        "    print()"
      ],
      "execution_count": null,
      "outputs": [
        {
          "output_type": "stream",
          "name": "stdout",
          "text": [
            "* \n* * \n* * * \n* * * * \n* * * * * \n* * * * \n* * * \n* * \n* \n\n"
          ]
        }
      ]
    },
    {
      "cell_type": "markdown",
      "metadata": {
        "id": "IVej2Kr9GrNo"
      },
      "source": [
        "# Answer 13"
      ]
    },
    {
      "cell_type": "code",
      "metadata": {
        "id": "LBHziMSpGrNo",
        "outputId": "ca055e2c-3601-4aea-a3e9-f59dca6f7339"
      },
      "source": [
        "r = 5\n",
        "i = 1\n",
        "while i <= r:\n",
        "    j = i\n",
        "    while j < r:\n",
        "        print(' ', end=' ')\n",
        "        j += 1\n",
        "    k = 1\n",
        "    while k <= i:\n",
        "        print('*', end=' ')\n",
        "        k += 1\n",
        "    print()\n",
        "    i += 1\n",
        "i = r\n",
        "while i >= 1:\n",
        "    j = i\n",
        "    while j <= r:\n",
        "        print(' ', end=' ')\n",
        "        j += 1\n",
        "    k = 1\n",
        "    while k < i:\n",
        "        print('*', end=' ')\n",
        "        k += 1\n",
        "    print('')\n",
        "    i -= 1"
      ],
      "execution_count": null,
      "outputs": [
        {
          "output_type": "stream",
          "name": "stdout",
          "text": [
            "        * \n      * * \n    * * * \n  * * * * \n* * * * * \n  * * * * \n    * * * \n      * * \n        * \n          \n"
          ]
        }
      ]
    },
    {
      "cell_type": "markdown",
      "metadata": {
        "id": "UzIbtoFoGrNp"
      },
      "source": [
        "# Answer 14"
      ]
    },
    {
      "cell_type": "code",
      "metadata": {
        "id": "3fdHbRv3GrNp",
        "outputId": "9f86c18f-f2ff-445c-95a2-c7539725b4a5"
      },
      "source": [
        "r = 5\n",
        "i = 0\n",
        "while i <= r - 1:\n",
        "    j = 0\n",
        "    while j < i:\n",
        "        print('', end=' ')\n",
        "        j += 1\n",
        "    k = i\n",
        "    while k <= r - 1:\n",
        "        print('*', end=' ')\n",
        "        k += 1\n",
        "    print()\n",
        "    i += 1\n",
        "\n",
        "i = r - 1\n",
        "while i >= 0:\n",
        "    j = 0\n",
        "    while j < i:\n",
        "        print('', end=' ')\n",
        "        j += 1\n",
        "    k = i\n",
        "    while k <= r - 1:\n",
        "        print('*', end=' ')\n",
        "        k += 1\n",
        "    print('')\n",
        "    i -= 1"
      ],
      "execution_count": null,
      "outputs": [
        {
          "output_type": "stream",
          "name": "stdout",
          "text": [
            "* * * * * \n * * * * \n  * * * \n   * * \n    * \n    * \n   * * \n  * * * \n * * * * \n* * * * * \n"
          ]
        }
      ]
    },
    {
      "cell_type": "markdown",
      "metadata": {
        "id": "cPbZcOUDGrNq"
      },
      "source": [
        "# Answer 15"
      ]
    },
    {
      "cell_type": "code",
      "metadata": {
        "id": "XCHcC5pCGrNq",
        "outputId": "3ce4b5fa-b66d-422c-f863-57572cad6cfc"
      },
      "source": [
        "r = 14\n",
        "print(\"*\" * r, end=\"\\n\")\n",
        "i = (r // 2) - 1\n",
        "j = 2\n",
        "while i != 0:\n",
        "    while j <= (r - 2):\n",
        "        print(\"*\" * i, end=\"\")\n",
        "        print(\"_\" * j, end=\"\")\n",
        "        print(\"*\" * i, end=\"\\n\")\n",
        "        i = i - 1\n",
        "        j = j + 2"
      ],
      "execution_count": null,
      "outputs": [
        {
          "output_type": "stream",
          "name": "stdout",
          "text": [
            "**************\n******__******\n*****____*****\n****______****\n***________***\n**__________**\n*____________*\n"
          ]
        }
      ]
    },
    {
      "cell_type": "code",
      "metadata": {
        "id": "HniO9JaOGrNq"
      },
      "source": [
        ""
      ],
      "execution_count": null,
      "outputs": []
    }
  ]
}