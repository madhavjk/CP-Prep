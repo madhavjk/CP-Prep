{
  "nbformat": 4,
  "nbformat_minor": 0,
  "metadata": {
    "colab": {
      "name": "Queue_1.ipynb",
      "provenance": [],
      "authorship_tag": "ABX9TyP1Vo5Em+1FXdcPsl1KHFcA",
      "include_colab_link": true
    },
    "kernelspec": {
      "name": "python3",
      "display_name": "Python 3"
    },
    "language_info": {
      "name": "python"
    }
  },
  "cells": [
    {
      "cell_type": "markdown",
      "metadata": {
        "id": "view-in-github",
        "colab_type": "text"
      },
      "source": [
        "<a href=\"https://colab.research.google.com/github/madhavjk/CP-Prep/blob/main/Python/Queue_1.ipynb\" target=\"_parent\"><img src=\"https://colab.research.google.com/assets/colab-badge.svg\" alt=\"Open In Colab\"/></a>"
      ]
    },
    {
      "cell_type": "markdown",
      "source": [
        "**Common queue interview questions in Python**"
      ],
      "metadata": {
        "id": "azJXZjq3b-CN"
      }
    },
    {
      "cell_type": "markdown",
      "source": [
        "Q1 Reverse first k elements of a queue"
      ],
      "metadata": {
        "id": "NeETj7ZJb4qw"
      }
    },
    {
      "cell_type": "code",
      "execution_count": 14,
      "metadata": {
        "id": "JE2R6FicGSgQ",
        "colab": {
          "base_uri": "https://localhost:8080/"
        },
        "outputId": "0a8318aa-be99-493a-8a9d-69a48c8d0b4c"
      },
      "outputs": [
        {
          "output_type": "stream",
          "name": "stdout",
          "text": [
            "6\n",
            "5\n",
            "4\n",
            "3\n",
            "7\n",
            "8\n",
            "9\n"
          ]
        }
      ],
      "source": [
        "\n",
        "from queue import Queue\n",
        " \n",
        "from queue import LifoQueue\n",
        "def reverse(a,k):\n",
        "   # 1 2 3 4 5 6 6 \n",
        "   # 4 times dequeue -> 5 6 6 \n",
        "\n",
        "   # k=4 -> stack \n",
        "   # 4 3 2 1 5 6 6\n",
        "   n = a.qsize()\n",
        "   s = LifoQueue()\n",
        "   \n",
        "   for i in range(k):\n",
        "     s.put( a.get())\n",
        "\n",
        "   for i in range(s.qsize()):\n",
        "     a.put(s.get())\n",
        "\n",
        "   for i in range(n-k):\n",
        "     a.put(a.get())\n",
        "\n",
        "   for i in range(n):\n",
        "     print(a.get())\n",
        "\n",
        "a = Queue()\n",
        "a.put(3)\n",
        "a.put(4)\n",
        "a.put(5)\n",
        "a.put(6)\n",
        "a.put(7)\n",
        "a.put(8)\n",
        "a.put(9)\n",
        "\n",
        "k = 4\n",
        "reverse(a,k)\n",
        "\n",
        "   \n",
        "   \n",
        "    \n",
        "    "
      ]
    },
    {
      "cell_type": "code",
      "source": [
        ""
      ],
      "metadata": {
        "id": "FEGu73AG1zRe"
      },
      "execution_count": null,
      "outputs": []
    },
    {
      "cell_type": "markdown",
      "source": [
        "Q2 Implement a queue using a linked list"
      ],
      "metadata": {
        "id": "EVUFOFxAb0Qw"
      }
    },
    {
      "cell_type": "code",
      "source": [
        "class Node:\n",
        "   def __init__(self,data):\n",
        "     self.data = data\n",
        "     self.next = None\n",
        "\n",
        "class Queue:\n",
        "\n",
        "  def __init__(self):\n",
        "    self.front = self.rear = None\n",
        "  \n",
        "  def isEmpty(self):\n",
        "    return self.front == None\n",
        "\n",
        "  def EnQueue(self,item):\n",
        "\n",
        "    temp = Node(item)\n",
        "\n",
        "    if self.rear == None:\n",
        "      self.front = self.rear = temp\n",
        "      return\n",
        "    self.rear.next = temp\n",
        "    self.rear = temp\n",
        "\n",
        "  def DeQueue(self):\n",
        "     if self.isEmpty():\n",
        "       return\n",
        "     temp = self.front\n",
        "     self.front = temp.next\n",
        "     if(self.front == None):\n",
        "       self.rear = None\n",
        "\n",
        "  def Display(self):\n",
        "    temp = self.front\n",
        "    if((self.front== None) and (self.rear == None)):\n",
        "      print(\"Queue is empty\")\n",
        "      return\n",
        "    print(\"Queue elements are: \")\n",
        "\n",
        "    while(temp!= None):\n",
        "      print(temp.data, end=\" \")\n",
        "      temp = temp.next\n",
        "    \n",
        "\n",
        "\n",
        "    \n",
        "\n",
        "q = Queue()\n",
        "q.EnQueue(3)\n",
        "q.EnQueue(7)\n",
        "q.EnQueue(1)\n",
        "q.DeQueue()\n",
        "q.EnQueue(5)\n",
        "q.EnQueue(10)\n",
        "q.EnQueue(9)\n",
        "q.DeQueue()\n",
        "\n",
        "print(q.front.data)\n",
        "print(q.rear.data)\n",
        "\n",
        "q.Display()\n"
      ],
      "metadata": {
        "colab": {
          "base_uri": "https://localhost:8080/"
        },
        "id": "zj3niv1HPYDf",
        "outputId": "59d4d477-7c05-45ac-b7ce-9ec738938ab1"
      },
      "execution_count": null,
      "outputs": [
        {
          "output_type": "stream",
          "name": "stdout",
          "text": [
            "1\n",
            "9\n",
            "Queue elements are: \n",
            "1 5 10 9 "
          ]
        }
      ]
    },
    {
      "cell_type": "markdown",
      "source": [
        "Q3 Implement a stack using a queue"
      ],
      "metadata": {
        "id": "DUEWbYDFhtZm"
      }
    },
    {
      "cell_type": "code",
      "source": [
        "q = []\n",
        "\n",
        "def append(val):\n",
        " \n",
        "    size = len(q)\n",
        "    q.append(val);\n",
        " \n",
        "    for i in range(size):\n",
        "\n",
        "        x = q.pop(0);\n",
        "        q.append(x);\n",
        "   \n",
        "def pop():\n",
        " \n",
        "    if (len(q) == 0):\n",
        " \n",
        "        print(\"No elements\");\n",
        "        return -1;\n",
        "     \n",
        "    x = q.pop(0);\n",
        "    return x;\n",
        "\n",
        "def top():\n",
        " \n",
        "    if(len(q) == 0):\n",
        "        return -1;\n",
        "    return q[-1]\n",
        " \n",
        "def isEmpty():\n",
        " \n",
        "    return len(q)==0;\n",
        " \n",
        "\n",
        "if __name__=='__main__':\n",
        " \n",
        "    s = []\n",
        " \n",
        "    s.append(10);\n",
        "    s.append(20);\n",
        "    print(\"Top element :\" + str(s[-1]));\n",
        "    s.pop();\n",
        "    s.append(30);\n",
        "    s.pop();\n",
        "    print(\"Top element :\" + str(s[-1]));\n",
        "\n",
        "    \n"
      ],
      "metadata": {
        "id": "kfRHBWm7bRWO",
        "colab": {
          "base_uri": "https://localhost:8080/"
        },
        "outputId": "c8efb93b-f091-4831-dcdb-3cb5fe4aee04"
      },
      "execution_count": 6,
      "outputs": [
        {
          "output_type": "stream",
          "name": "stdout",
          "text": [
            "Top element :20\n",
            "Top element :10\n"
          ]
        }
      ]
    },
    {
      "cell_type": "code",
      "source": [
        ""
      ],
      "metadata": {
        "id": "mxWD8hj-Uiwj"
      },
      "execution_count": null,
      "outputs": []
    },
    {
      "cell_type": "code",
      "source": [
        ""
      ],
      "metadata": {
        "id": "nx9jqCP310v6"
      },
      "execution_count": null,
      "outputs": []
    }
  ]
}