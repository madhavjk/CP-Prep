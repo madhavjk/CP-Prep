{
  "nbformat": 4,
  "nbformat_minor": 0,
  "metadata": {
    "colab": {
      "name": "Stack_1.ipynb",
      "provenance": [],
      "authorship_tag": "ABX9TyMsMUXGq4flwRq/dPx2N+Cl",
      "include_colab_link": true
    },
    "kernelspec": {
      "name": "python3",
      "display_name": "Python 3"
    },
    "language_info": {
      "name": "python"
    }
  },
  "cells": [
    {
      "cell_type": "markdown",
      "metadata": {
        "id": "view-in-github",
        "colab_type": "text"
      },
      "source": [
        "<a href=\"https://colab.research.google.com/github/madhavjk/CP-Prep/blob/main/Python/Stack_1.ipynb\" target=\"_parent\"><img src=\"https://colab.research.google.com/assets/colab-badge.svg\" alt=\"Open In Colab\"/></a>"
      ]
    },
    {
      "cell_type": "markdown",
      "source": [
        "**Common stacks interview questions in Python**"
      ],
      "metadata": {
        "id": "vAIXQYhkaa0Y"
      }
    },
    {
      "cell_type": "markdown",
      "source": [
        "Q1 Implement a queue using stacks"
      ],
      "metadata": {
        "id": "b4aTrh-pasN0"
      }
    },
    {
      "cell_type": "code",
      "source": [
        "class Queue:\n",
        "\n",
        "  def __init__(self):\n",
        "    self.s1 = []\n",
        "    self.s2 = []\n",
        "\n",
        "  def enQueue(self,a):         #s1-> 2 3 4 5 6 \n",
        "                           #s2-> 6 5 4 3 2\n",
        "    self.s1.append(a)\n",
        "    \n",
        "  def deQueue(self):\n",
        "\n",
        "    if( (self.s1==None) and (self.s2==None)):\n",
        "      print('Queue is empty')\n",
        "      return\n",
        "    elif len(self.s2) == 0 and len(self.s1) > 0:\n",
        "        for _ in range(len(self.s1)):\n",
        "          self.s2.append(self.s1.pop())\n",
        "        return self.s2.pop()\n",
        "    else: \n",
        "        return self.s2.pop()\n",
        "\n",
        "  def display(self):\n",
        "     for _ in range((len(self.s1) + len(self.s2))):\n",
        "       print(Queue.deQueue(self), end =\" \")\n",
        "\n",
        "\n",
        "\n",
        "\n",
        "\n",
        "q = Queue()\n",
        "q.enQueue(1)\n",
        "q.enQueue(2)\n",
        "q.enQueue(3)             # S1 = [1,2,3]\n",
        "q.deQueue()              #s1 = [], s2 = [3,2]\n",
        "q.enQueue(7)\n",
        "q.enQueue(8)\n",
        "q.enQueue(9)              # s1 = [7, 8, 9], s2= [3, 2]\n",
        "q.deQueue()                # s1 = [7, 8, 9], s2= [3]\n",
        "q.enQueue(4)               # s1 = [7, 8, 9, 4], s2= [3]\n",
        " \n",
        "#print(q.deQueue())\n",
        "\n",
        "q.display()\n",
        "\n",
        "\n",
        "\n",
        "\n"
      ],
      "metadata": {
        "colab": {
          "base_uri": "https://localhost:8080/"
        },
        "id": "NpzgGptEamIN",
        "outputId": "c27b7957-1562-43a9-c1f4-d22a95dd2548"
      },
      "execution_count": null,
      "outputs": [
        {
          "output_type": "stream",
          "name": "stdout",
          "text": [
            "3 7 8 9 4 "
          ]
        }
      ]
    },
    {
      "cell_type": "markdown",
      "source": [
        "Q2 Evaluate a Postfix expression with a stack"
      ],
      "metadata": {
        "id": "aXzGJVGInL1R"
      }
    },
    {
      "cell_type": "code",
      "source": [
        "\n",
        "\n",
        "\n",
        "def evaluatePostfix(exp):\n",
        "\n",
        "   \n",
        "    stack = []\n",
        "\n",
        "    \n",
        "    for ch in exp:\n",
        "\n",
        "        # Push the element into the given stack if it is a number.\n",
        "        if ch.isdigit():\n",
        "            stack.append(int(ch))\n",
        "            \n",
        "\n",
        "      \n",
        "        else:\n",
        "           \n",
        "            val1 = stack.pop()\n",
        "            val2 = stack.pop()\n",
        "        \n",
        "\n",
        "       \n",
        "            if ch == '+':\n",
        "                stack.append(val2 + val1)\n",
        "         \n",
        "            elif ch == '-':\n",
        "                stack.append(val2 - val1)\n",
        "       \n",
        "            elif ch == '*':\n",
        "                stack.append(val2 * val1)\n",
        "          \n",
        "            elif ch == '/':\n",
        "                stack.append(val2 // val1)\n",
        "            elif ch == '^':\n",
        "                 stack.append(val2**val1)\n",
        "\n",
        "    \n",
        "    return stack.pop()\n",
        "\n",
        "\n",
        "\n",
        "#str = \"2 3 1 * + 9 -\"\n",
        "str = input(\"Enter the expresssion:\")\n",
        "exp = str.split(' ')\n",
        "\n",
        "\n",
        "print('The value of the given postfix expression =', evaluatePostfix(exp))"
      ],
      "metadata": {
        "colab": {
          "base_uri": "https://localhost:8080/"
        },
        "id": "I6NtSW9Q3qIf",
        "outputId": "86e057b3-778e-4ac1-c235-0fe40dfa0c8b"
      },
      "execution_count": null,
      "outputs": [
        {
          "output_type": "stream",
          "name": "stdout",
          "text": [
            "Enter the expresssion:2 3 1 * + 9 -\n",
            "The value of the given postfix expression = -4\n"
          ]
        }
      ]
    },
    {
      "cell_type": "markdown",
      "source": [
        "Q3. Next greatest element using a stack"
      ],
      "metadata": {
        "id": "0cPfIL9jQTqq"
      }
    },
    {
      "cell_type": "code",
      "source": [
        "def next_greatest(a):\n",
        "\n",
        "  stack = []\n",
        "  t = 2\n",
        "\n",
        "  while(t):\n",
        "\n",
        "    for i in a:\n",
        "\n",
        "      if len(stack)==0:\n",
        "        stack.append(i)  \n",
        "\n",
        "      else:\n",
        "        if i> stack[0]:\n",
        "          stack.pop()\n",
        "          stack.append(i)  \n",
        "        else:\n",
        "          continue\n",
        "\n",
        "    t = t-1\n",
        "\n",
        "    if t==0:\n",
        "      print(stack[0])\n",
        "      \n",
        "    a.remove(stack.pop())\n",
        "  \n",
        "    \n",
        "    \n",
        "\n",
        "\n",
        "  \n",
        "\n",
        "a = [2,3,4,9,5,8,1,4,10,15]\n",
        "next_greatest(a)\n",
        "\n",
        "\n",
        "    \n",
        "\n",
        "    \n",
        "\n",
        "        \n",
        "\n",
        "\n",
        "\n"
      ],
      "metadata": {
        "colab": {
          "base_uri": "https://localhost:8080/"
        },
        "id": "pfZa9fZBQR2q",
        "outputId": "fafca516-5009-411d-c0bd-a2a3713d39a9"
      },
      "execution_count": null,
      "outputs": [
        {
          "output_type": "stream",
          "name": "stdout",
          "text": [
            "10\n"
          ]
        }
      ]
    },
    {
      "cell_type": "markdown",
      "source": [
        "Q4 Create a min() function using a stack"
      ],
      "metadata": {
        "id": "tuMBsQ95ZEQT"
      }
    },
    {
      "cell_type": "code",
      "source": [
        "def min(a):\n",
        "  stack = []\n",
        " \n",
        "\n",
        "\n",
        "\n",
        "  for i in a:\n",
        "    if len(stack)==0:\n",
        "      stack.append(i)\n",
        "        \n",
        "    else:\n",
        "        if i< stack[0]:\n",
        "          stack.pop()\n",
        "          stack.append(i)  \n",
        "        else:\n",
        "          continue\n",
        "\n",
        "\n",
        "  return stack[0]\n",
        "\n",
        "a = [2,3,4,9,5,8,1,4,10,15,-1]\n",
        "min(a)\n",
        "  \n",
        "\n",
        "\n",
        "\n"
      ],
      "metadata": {
        "colab": {
          "base_uri": "https://localhost:8080/"
        },
        "id": "fntgsSrrZCzQ",
        "outputId": "1bd74370-f8a3-4a31-a263-aca21861209c"
      },
      "execution_count": null,
      "outputs": [
        {
          "output_type": "execute_result",
          "data": {
            "text/plain": [
              "-1"
            ]
          },
          "metadata": {},
          "execution_count": 23
        }
      ]
    }
  ]
}