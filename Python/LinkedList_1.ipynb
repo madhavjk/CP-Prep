{
  "nbformat": 4,
  "nbformat_minor": 0,
  "metadata": {
    "colab": {
      "name": "LinkedList_1.ipynb",
      "provenance": [],
      "authorship_tag": "ABX9TyO4w6awNxpP7ZYPgiebL58x",
      "include_colab_link": true
    },
    "kernelspec": {
      "name": "python3",
      "display_name": "Python 3"
    },
    "language_info": {
      "name": "python"
    }
  },
  "cells": [
    {
      "cell_type": "markdown",
      "metadata": {
        "id": "view-in-github",
        "colab_type": "text"
      },
      "source": [
        "<a href=\"https://colab.research.google.com/github/madhavjk/CP-Prep/blob/main/Python/LinkedList_1.ipynb\" target=\"_parent\"><img src=\"https://colab.research.google.com/assets/colab-badge.svg\" alt=\"Open In Colab\"/></a>"
      ]
    },
    {
      "cell_type": "code",
      "source": [
        "#Write Python code to check whether the entered number is strong or not.\n",
        "\n",
        "\n",
        "def isStrong(num):\n",
        "  \n",
        "  temp = num\n",
        "  sum = 0\n",
        "  while(num):  \n",
        "  \n",
        "    i=1  \n",
        "  \n",
        "    N=1  \n",
        "    rem=num%10 \n",
        "\n",
        "    while(i<=rem):  # <--DIGIT wise factorial\n",
        "        N=N*i   \n",
        "        i=i+1 \n",
        "\n",
        "    sum=sum + N \n",
        "    num=num//10\n",
        "\n",
        "  if(sum==temp):\n",
        "    print(\"Given number is a strong number\")\n",
        "  else:\n",
        "    print(\"Given number is not a strong number\")\n"
      ],
      "metadata": {
        "id": "wZy72SMHaw9H"
      },
      "execution_count": null,
      "outputs": []
    },
    {
      "cell_type": "code",
      "source": [
        "#Determine if two rectangles intersect.\n",
        "\n",
        "#Give an algorithm to solve this problem when rectangles are defined by their width, height, and (x, y) coordinates of their top-left corners.\n",
        "#Give another algorithm where rectangles are defined by their width, height, and (x, y) coordinates of their centers.\n",
        "#What are the behaviors of your algorithms for edge cases?"
      ],
      "metadata": {
        "id": "XpkZnauXa3ji"
      },
      "execution_count": null,
      "outputs": []
    },
    {
      "cell_type": "markdown",
      "source": [
        "**Common linked list interview questions in Python**"
      ],
      "metadata": {
        "id": "sVzurVUoaJX1"
      }
    },
    {
      "cell_type": "markdown",
      "source": [
        "Q1 Print the middle element of a given linked list"
      ],
      "metadata": {
        "id": "fCJmdr7kaSu1"
      }
    },
    {
      "cell_type": "code",
      "execution_count": 30,
      "metadata": {
        "id": "FMzh5xDlZ0nK",
        "colab": {
          "base_uri": "https://localhost:8080/",
          "height": 356
        },
        "outputId": "d91ad2f7-5119-4c6b-e89d-d0a726d9eef5"
      },
      "outputs": [
        {
          "output_type": "error",
          "ename": "TypeError",
          "evalue": "ignored",
          "traceback": [
            "\u001b[0;31m---------------------------------------------------------------------------\u001b[0m",
            "\u001b[0;31mTypeError\u001b[0m                                 Traceback (most recent call last)",
            "\u001b[0;32m<ipython-input-30-d8c5672300d9>\u001b[0m in \u001b[0;36m<module>\u001b[0;34m()\u001b[0m\n\u001b[1;32m     44\u001b[0m         \u001b[0;32mfor\u001b[0m \u001b[0mi\u001b[0m \u001b[0;32min\u001b[0m \u001b[0mrange\u001b[0m\u001b[0;34m(\u001b[0m\u001b[0;36m5\u001b[0m\u001b[0;34m,\u001b[0m \u001b[0;36m0\u001b[0m\u001b[0;34m,\u001b[0m \u001b[0;34m-\u001b[0m\u001b[0;36m1\u001b[0m\u001b[0;34m)\u001b[0m\u001b[0;34m:\u001b[0m\u001b[0;34m\u001b[0m\u001b[0;34m\u001b[0m\u001b[0m\n\u001b[1;32m     45\u001b[0m                 \u001b[0mllist\u001b[0m\u001b[0;34m.\u001b[0m\u001b[0mpush\u001b[0m\u001b[0;34m(\u001b[0m\u001b[0mi\u001b[0m\u001b[0;34m)\u001b[0m\u001b[0;34m\u001b[0m\u001b[0;34m\u001b[0m\u001b[0m\n\u001b[0;32m---> 46\u001b[0;31m                 \u001b[0mllist\u001b[0m\u001b[0;34m.\u001b[0m\u001b[0mprintList\u001b[0m\u001b[0;34m(\u001b[0m\u001b[0;34m)\u001b[0m\u001b[0;34m\u001b[0m\u001b[0;34m\u001b[0m\u001b[0m\n\u001b[0m\u001b[1;32m     47\u001b[0m                 \u001b[0mllist\u001b[0m\u001b[0;34m.\u001b[0m\u001b[0mprintMiddle\u001b[0m\u001b[0;34m(\u001b[0m\u001b[0;34m)\u001b[0m\u001b[0;34m\u001b[0m\u001b[0;34m\u001b[0m\u001b[0m\n\u001b[1;32m     48\u001b[0m \u001b[0;34m\u001b[0m\u001b[0m\n",
            "\u001b[0;32m<ipython-input-30-d8c5672300d9>\u001b[0m in \u001b[0;36mprintList\u001b[0;34m(self)\u001b[0m\n\u001b[1;32m     19\u001b[0m                 \u001b[0mnode\u001b[0m \u001b[0;34m=\u001b[0m \u001b[0mself\u001b[0m\u001b[0;34m.\u001b[0m\u001b[0mhead\u001b[0m\u001b[0;34m\u001b[0m\u001b[0;34m\u001b[0m\u001b[0m\n\u001b[1;32m     20\u001b[0m                 \u001b[0;32mwhile\u001b[0m \u001b[0mnode\u001b[0m\u001b[0;34m:\u001b[0m\u001b[0;34m\u001b[0m\u001b[0;34m\u001b[0m\u001b[0m\n\u001b[0;32m---> 21\u001b[0;31m                         \u001b[0mprint\u001b[0m\u001b[0;34m(\u001b[0m\u001b[0mstr\u001b[0m\u001b[0;34m(\u001b[0m\u001b[0mnode\u001b[0m\u001b[0;34m.\u001b[0m\u001b[0mdata\u001b[0m\u001b[0;34m)\u001b[0m \u001b[0;34m+\u001b[0m \u001b[0;34m\"->\"\u001b[0m\u001b[0;34m,\u001b[0m \u001b[0mend\u001b[0m\u001b[0;34m=\u001b[0m\u001b[0;34m\"\"\u001b[0m\u001b[0;34m)\u001b[0m\u001b[0;34m\u001b[0m\u001b[0;34m\u001b[0m\u001b[0m\n\u001b[0m\u001b[1;32m     22\u001b[0m                         \u001b[0mnode\u001b[0m \u001b[0;34m=\u001b[0m \u001b[0mnode\u001b[0m\u001b[0;34m.\u001b[0m\u001b[0mnext\u001b[0m\u001b[0;34m\u001b[0m\u001b[0;34m\u001b[0m\u001b[0m\n\u001b[1;32m     23\u001b[0m                 \u001b[0mprint\u001b[0m\u001b[0;34m(\u001b[0m\u001b[0;34m\"NULL\"\u001b[0m\u001b[0;34m)\u001b[0m\u001b[0;34m\u001b[0m\u001b[0;34m\u001b[0m\u001b[0m\n",
            "\u001b[0;31mTypeError\u001b[0m: print() got an unexpected keyword argument 'end'"
          ]
        }
      ],
      "source": [
        "\n",
        "class Node:\n",
        "\n",
        "\tdef __init__(self, data):\n",
        "\t\tself.data = data\n",
        "\t\tself.next = None \n",
        "\n",
        "class LinkedList:\n",
        "\n",
        "\tdef __init__(self):\n",
        "\t\tself.head = None\n",
        "\n",
        "\tdef push(self, new_data):\n",
        "\t\tnew_node = Node(new_data)\n",
        "\t\tnew_node.next = self.head\n",
        "\t\tself.head = new_node\n",
        "\n",
        "\tdef printList(self):\n",
        "\t\tnode = self.head\n",
        "\t\twhile node:\n",
        "\t\t\tprint(str(node.data) + \"->\", end=\"\")\n",
        "\t\t\tnode = node.next\n",
        "\t\tprint(\"NULL\")\n",
        "\n",
        "\n",
        "\tdef printMiddle(self):\n",
        "\t\n",
        "\t\tslow = self.head\n",
        "\t\tfast = self.head\n",
        "\n",
        "\t\t\n",
        "\t\twhile fast and fast.next:\n",
        "\t\t\tslow = slow.next\n",
        "\t\t\tfast = fast.next.next\n",
        "\t\t\n",
        "\t\n",
        "\t\tprint(\"The middle element is \", slow.data)\n",
        "\n",
        "if __name__=='__main__':\n",
        "\n",
        "\n",
        "\tllist = LinkedList()\n",
        "\n",
        "\tfor i in range(5, 0, -1):\n",
        "\t\tllist.push(i)\n",
        "\t\tllist.printList()\n",
        "\t\tllist.printMiddle()\n",
        "\n",
        "\n",
        "\n",
        "  \n",
        "\n",
        "\n"
      ]
    },
    {
      "cell_type": "markdown",
      "source": [
        "Q2 Remove duplicate elements from a sorted linked list"
      ],
      "metadata": {
        "id": "qjVpFkRubbIx"
      }
    },
    {
      "cell_type": "code",
      "source": [
        "class Node:\n",
        "\tdef __init__(self):\n",
        "\t\tself.data = 0\n",
        "\t\tself.next = None\n",
        "\t\n",
        "def push(head_ref, new_data):\n",
        "\tnew_node = Node()\n",
        "\tnew_node.data = new_data\n",
        "\t\n",
        "\tnew_node.next = (head_ref)\n",
        "\t\n",
        "\thead_ref = new_node\n",
        "\treturn head_ref\n",
        "\n",
        "def printList(node):\n",
        "\twhile (node != None):\n",
        "\t\tprint(node.data, end=\" \");\n",
        "\t\tnode = node.next;\n",
        "\t\n",
        "def removeDuplicates(head):\n",
        "\ttrack = {}\n",
        "\ttemp = head\n",
        "\t\n",
        "\twhile(temp != None):\n",
        "\t\tif (not temp.data in track):\n",
        "\t\t\tprint(temp.data, end=\" \")\n",
        "\t\t\n",
        "\t\ttrack[temp.data] = True\n",
        "\t\ttemp = temp.next\n",
        "\n",
        "head = None;\n",
        "\t\n",
        "head = push(head, 20);\n",
        "head = push(head, 13);\n",
        "head = push(head, 13);\n",
        "head = push(head, 11);\n",
        "head = push(head, 11);\n",
        "head = push(head, 11);\n",
        "print(\"Linked list before duplicate removal \", end=\" \");\n",
        "printList(head);\n",
        "print(\"\\nLinked list after duplicate removal \", end=\" \");\n",
        "removeDuplicates(head);\n",
        "\n",
        "\n"
      ],
      "metadata": {
        "id": "mnOV-o1-bbhp",
        "colab": {
          "base_uri": "https://localhost:8080/",
          "height": 234
        },
        "outputId": "4ae4e19c-15e1-40f5-b900-0326266d3ccf"
      },
      "execution_count": 28,
      "outputs": [
        {
          "output_type": "error",
          "ename": "TypeError",
          "evalue": "ignored",
          "traceback": [
            "\u001b[0;31m---------------------------------------------------------------------------\u001b[0m",
            "\u001b[0;31mTypeError\u001b[0m                                 Traceback (most recent call last)",
            "\u001b[0;32m<ipython-input-28-f77365862d74>\u001b[0m in \u001b[0;36m<module>\u001b[0;34m()\u001b[0m\n\u001b[1;32m     37\u001b[0m \u001b[0mhead\u001b[0m \u001b[0;34m=\u001b[0m \u001b[0mpush\u001b[0m\u001b[0;34m(\u001b[0m\u001b[0mhead\u001b[0m\u001b[0;34m,\u001b[0m \u001b[0;36m11\u001b[0m\u001b[0;34m)\u001b[0m\u001b[0;34m;\u001b[0m\u001b[0;34m\u001b[0m\u001b[0;34m\u001b[0m\u001b[0m\n\u001b[1;32m     38\u001b[0m \u001b[0mhead\u001b[0m \u001b[0;34m=\u001b[0m \u001b[0mpush\u001b[0m\u001b[0;34m(\u001b[0m\u001b[0mhead\u001b[0m\u001b[0;34m,\u001b[0m \u001b[0;36m11\u001b[0m\u001b[0;34m)\u001b[0m\u001b[0;34m;\u001b[0m\u001b[0;34m\u001b[0m\u001b[0;34m\u001b[0m\u001b[0m\n\u001b[0;32m---> 39\u001b[0;31m \u001b[0mprint\u001b[0m\u001b[0;34m(\u001b[0m\u001b[0;34m\"Linked list before duplicate removal \"\u001b[0m\u001b[0;34m,\u001b[0m \u001b[0mend\u001b[0m\u001b[0;34m=\u001b[0m\u001b[0;34m\" \"\u001b[0m\u001b[0;34m)\u001b[0m\u001b[0;34m;\u001b[0m\u001b[0;34m\u001b[0m\u001b[0;34m\u001b[0m\u001b[0m\n\u001b[0m\u001b[1;32m     40\u001b[0m \u001b[0mprintList\u001b[0m\u001b[0;34m(\u001b[0m\u001b[0mhead\u001b[0m\u001b[0;34m)\u001b[0m\u001b[0;34m;\u001b[0m\u001b[0;34m\u001b[0m\u001b[0;34m\u001b[0m\u001b[0m\n\u001b[1;32m     41\u001b[0m \u001b[0mprint\u001b[0m\u001b[0;34m(\u001b[0m\u001b[0;34m\"\\nLinked list after duplicate removal \"\u001b[0m\u001b[0;34m,\u001b[0m \u001b[0mend\u001b[0m\u001b[0;34m=\u001b[0m\u001b[0;34m\" \"\u001b[0m\u001b[0;34m)\u001b[0m\u001b[0;34m;\u001b[0m\u001b[0;34m\u001b[0m\u001b[0;34m\u001b[0m\u001b[0m\n",
            "\u001b[0;31mTypeError\u001b[0m: print() got an unexpected keyword argument 'end'"
          ]
        }
      ]
    },
    {
      "cell_type": "markdown",
      "source": [
        "Q3 Check if a singly linked list is a palindrome"
      ],
      "metadata": {
        "id": "OjuSXf_zbg-p"
      }
    },
    {
      "cell_type": "code",
      "source": [
        "class Node:\n",
        "\n",
        "\tdef __init__(self, data):\n",
        "\t\tself.data = data\n",
        "\t\tself.next = None \n",
        "\n",
        "class Linkedlist:\n",
        "   def __init__(self):\n",
        "     self.head = None\n",
        "\n",
        "   def push(self, new_data):\n",
        "     new_node = Node(new_data)\n",
        "     new_node.next = self.head\n",
        "     self.head = new_node\n",
        "   def printList(self):\n",
        "     node = self.head\n",
        "     while node:\n",
        "       print(str(node.data) + \"->\", end=\"\")\n",
        "       node = node.next\n",
        "     print(\"NULL\")\n",
        "    \n",
        "   def isPalindrome(self):\n",
        "     temp = self.head\n",
        "\n",
        "     while temp.next\n"
      ],
      "metadata": {
        "id": "i5d107HDbhNp"
      },
      "execution_count": null,
      "outputs": []
    },
    {
      "cell_type": "markdown",
      "source": [
        "Q4 Merge K sorted linked lists"
      ],
      "metadata": {
        "id": "r72cbU10bhfm"
      }
    },
    {
      "cell_type": "code",
      "source": [
        ""
      ],
      "metadata": {
        "id": "IiuzJofxbhuT"
      },
      "execution_count": null,
      "outputs": []
    },
    {
      "cell_type": "markdown",
      "source": [
        "Q5 Find the intersection point of two linked lists"
      ],
      "metadata": {
        "id": "PY1wBvgdbixN"
      }
    },
    {
      "cell_type": "code",
      "source": [
        "class Node :\n",
        "  def __init__(self, d):\n",
        "    self.data = d\n",
        "    self.next = None\n",
        " \n",
        "\n",
        "def Display(n):\n",
        "  cur = n\n",
        "  while (cur!= None):\n",
        "    print(cur.data, end = \" \")\n",
        "    cur = cur.next\n",
        "  print(\"\")\n",
        " \n",
        "\n",
        "def MergeNode(n1, n2):\n",
        "  hs = set()\n",
        "  while (n1 != None):\n",
        "    hs.add(n1)\n",
        "    n1 = n1.next\n",
        "  while (n2 != None):\n",
        "    if (n2 in hs):\n",
        "      return n2\n",
        "    n2 = n2.next\n",
        "  return None\n",
        " \n",
        "\n",
        " \n",
        "# list 1\n",
        "n1 = Node(1)\n",
        "n1.next = Node(2)\n",
        "n1.next.next = Node(3)\n",
        "n1.next.next.next = Node(4)\n",
        "n1.next.next.next.next = Node(5)\n",
        "n1.next.next.next.next.next = Node(6)\n",
        "n1.next.next.next.next.next.next = Node(7)\n",
        " \n",
        "# list 2\n",
        "n2 = Node(10)\n",
        "n2.next = Node(9)\n",
        "n2.next.next = Node(8)\n",
        "n2.next.next.next = n1.next.next.next\n",
        " \n",
        "Display(n1)\n",
        "Display(n2)\n",
        " \n",
        "print(MergeNode(n1, n2).data)"
      ],
      "metadata": {
        "id": "6W15jI00bjBL",
        "colab": {
          "base_uri": "https://localhost:8080/",
          "height": 356
        },
        "outputId": "9bdc7c4b-65c4-4ca3-ed32-fa709b441843"
      },
      "execution_count": 26,
      "outputs": [
        {
          "output_type": "error",
          "ename": "TypeError",
          "evalue": "ignored",
          "traceback": [
            "\u001b[0;31m---------------------------------------------------------------------------\u001b[0m",
            "\u001b[0;31mTypeError\u001b[0m                                 Traceback (most recent call last)",
            "\u001b[0;32m<ipython-input-26-e6e24fb41cce>\u001b[0m in \u001b[0;36m<module>\u001b[0;34m()\u001b[0m\n\u001b[1;32m     41\u001b[0m \u001b[0mn2\u001b[0m\u001b[0;34m.\u001b[0m\u001b[0mnext\u001b[0m\u001b[0;34m.\u001b[0m\u001b[0mnext\u001b[0m\u001b[0;34m.\u001b[0m\u001b[0mnext\u001b[0m \u001b[0;34m=\u001b[0m \u001b[0mn1\u001b[0m\u001b[0;34m.\u001b[0m\u001b[0mnext\u001b[0m\u001b[0;34m.\u001b[0m\u001b[0mnext\u001b[0m\u001b[0;34m.\u001b[0m\u001b[0mnext\u001b[0m\u001b[0;34m\u001b[0m\u001b[0;34m\u001b[0m\u001b[0m\n\u001b[1;32m     42\u001b[0m \u001b[0;34m\u001b[0m\u001b[0m\n\u001b[0;32m---> 43\u001b[0;31m \u001b[0mDisplay\u001b[0m\u001b[0;34m(\u001b[0m\u001b[0mn1\u001b[0m\u001b[0;34m)\u001b[0m\u001b[0;34m\u001b[0m\u001b[0;34m\u001b[0m\u001b[0m\n\u001b[0m\u001b[1;32m     44\u001b[0m \u001b[0mDisplay\u001b[0m\u001b[0;34m(\u001b[0m\u001b[0mn2\u001b[0m\u001b[0;34m)\u001b[0m\u001b[0;34m\u001b[0m\u001b[0;34m\u001b[0m\u001b[0m\n\u001b[1;32m     45\u001b[0m \u001b[0;34m\u001b[0m\u001b[0m\n",
            "\u001b[0;32m<ipython-input-26-e6e24fb41cce>\u001b[0m in \u001b[0;36mDisplay\u001b[0;34m(n)\u001b[0m\n\u001b[1;32m      8\u001b[0m   \u001b[0mcur\u001b[0m \u001b[0;34m=\u001b[0m \u001b[0mn\u001b[0m\u001b[0;34m\u001b[0m\u001b[0;34m\u001b[0m\u001b[0m\n\u001b[1;32m      9\u001b[0m   \u001b[0;32mwhile\u001b[0m \u001b[0;34m(\u001b[0m\u001b[0mcur\u001b[0m\u001b[0;34m!=\u001b[0m \u001b[0;32mNone\u001b[0m\u001b[0;34m)\u001b[0m\u001b[0;34m:\u001b[0m\u001b[0;34m\u001b[0m\u001b[0;34m\u001b[0m\u001b[0m\n\u001b[0;32m---> 10\u001b[0;31m     \u001b[0mprint\u001b[0m\u001b[0;34m(\u001b[0m\u001b[0mcur\u001b[0m\u001b[0;34m.\u001b[0m\u001b[0mdata\u001b[0m\u001b[0;34m,\u001b[0m \u001b[0mend\u001b[0m \u001b[0;34m=\u001b[0m \u001b[0;34m\" \"\u001b[0m\u001b[0;34m)\u001b[0m\u001b[0;34m\u001b[0m\u001b[0;34m\u001b[0m\u001b[0m\n\u001b[0m\u001b[1;32m     11\u001b[0m     \u001b[0mcur\u001b[0m \u001b[0;34m=\u001b[0m \u001b[0mcur\u001b[0m\u001b[0;34m.\u001b[0m\u001b[0mnext\u001b[0m\u001b[0;34m\u001b[0m\u001b[0;34m\u001b[0m\u001b[0m\n\u001b[1;32m     12\u001b[0m   \u001b[0mprint\u001b[0m\u001b[0;34m(\u001b[0m\u001b[0;34m\"\"\u001b[0m\u001b[0;34m)\u001b[0m\u001b[0;34m\u001b[0m\u001b[0;34m\u001b[0m\u001b[0m\n",
            "\u001b[0;31mTypeError\u001b[0m: print() got an unexpected keyword argument 'end'"
          ]
        }
      ]
    }
  ]
}