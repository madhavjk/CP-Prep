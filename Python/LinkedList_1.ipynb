{
  "nbformat": 4,
  "nbformat_minor": 0,
  "metadata": {
    "colab": {
      "name": "LinkedList_1.ipynb",
      "provenance": [],
      "authorship_tag": "ABX9TyO4vhOsxlW2IjEinPcj6Yti",
      "include_colab_link": true
    },
    "kernelspec": {
      "name": "python3",
      "display_name": "Python 3"
    },
    "language_info": {
      "name": "python"
    }
  },
  "cells": [
    {
      "cell_type": "markdown",
      "metadata": {
        "id": "view-in-github",
        "colab_type": "text"
      },
      "source": [
        "<a href=\"https://colab.research.google.com/github/madhavjk/CP-Prep/blob/main/Python/LinkedList_1.ipynb\" target=\"_parent\"><img src=\"https://colab.research.google.com/assets/colab-badge.svg\" alt=\"Open In Colab\"/></a>"
      ]
    },
    {
      "cell_type": "markdown",
      "source": [
        "**Common linked list interview questions in Python**"
      ],
      "metadata": {
        "id": "sVzurVUoaJX1"
      }
    },
    {
      "cell_type": "markdown",
      "source": [
        "Q1 Print the middle element of a given linked list"
      ],
      "metadata": {
        "id": "fCJmdr7kaSu1"
      }
    },
    {
      "cell_type": "code",
      "execution_count": 1,
      "metadata": {
        "id": "FMzh5xDlZ0nK",
        "colab": {
          "base_uri": "https://localhost:8080/"
        },
        "outputId": "4f94df06-381f-4702-8c91-46e3773241a0"
      },
      "outputs": [
        {
          "output_type": "stream",
          "name": "stdout",
          "text": [
            "5->NULL\n",
            "The middle element is  5\n",
            "4->5->NULL\n",
            "The middle element is  5\n",
            "3->4->5->NULL\n",
            "The middle element is  4\n",
            "2->3->4->5->NULL\n",
            "The middle element is  4\n",
            "1->2->3->4->5->NULL\n",
            "The middle element is  3\n"
          ]
        }
      ],
      "source": [
        "\n",
        "class Node:\n",
        "\n",
        "\tdef __init__(self, data):\n",
        "\t\tself.data = data\n",
        "\t\tself.next = None \n",
        "\n",
        "class LinkedList:\n",
        "\n",
        "\tdef __init__(self):\n",
        "\t\tself.head = None\n",
        "\n",
        "\tdef push(self, new_data):\n",
        "\t\tnew_node = Node(new_data)\n",
        "\t\tnew_node.next = self.head\n",
        "\t\tself.head = new_node\n",
        "\n",
        "\tdef printList(self):\n",
        "\t\tnode = self.head\n",
        "\t\twhile node:\n",
        "\t\t\tprint(str(node.data) + \"->\", end=\"\")\n",
        "\t\t\tnode = node.next\n",
        "\t\tprint(\"NULL\")\n",
        "\n",
        "\n",
        "\tdef printMiddle(self):\n",
        "\t\n",
        "\t\tslow = self.head\n",
        "\t\tfast = self.head\n",
        "\n",
        "\t\t\n",
        "\t\twhile fast and fast.next:\n",
        "\t\t\tslow = slow.next\n",
        "\t\t\tfast = fast.next.next\n",
        "\t\t\n",
        "\t\n",
        "\t\tprint(\"The middle element is \", slow.data)\n",
        "\n",
        "if __name__=='__main__':\n",
        "\n",
        "\n",
        "\tllist = LinkedList()\n",
        "\n",
        "\tfor i in range(5, 0, -1):\n",
        "\t\tllist.push(i)\n",
        "\t\tllist.printList()\n",
        "\t\tllist.printMiddle()\n",
        "\n",
        "\n",
        "\n",
        "  \n",
        "\n",
        "\n"
      ]
    },
    {
      "cell_type": "markdown",
      "source": [
        "Q2 Remove duplicate elements from a sorted linked list"
      ],
      "metadata": {
        "id": "qjVpFkRubbIx"
      }
    },
    {
      "cell_type": "code",
      "source": [
        "class Node:\n",
        "\tdef __init__(self):\n",
        "\t\tself.data = 0\n",
        "\t\tself.next = None\n",
        "\t\n",
        "def push(head_ref, new_data):\n",
        "\tnew_node = Node()\n",
        "\tnew_node.data = new_data\n",
        "\t\n",
        "\tnew_node.next = (head_ref)\n",
        "\t\n",
        "\thead_ref = new_node\n",
        "\treturn head_ref\n",
        "\n",
        "def printList(node):\n",
        "\twhile (node != None):\n",
        "\t\tprint(node.data, end=\" \");\n",
        "\t\tnode = node.next;\n",
        "\t\n",
        "def removeDuplicates(head):\n",
        "\ttrack = {}\n",
        "\ttemp = head\n",
        "\t\n",
        "\twhile(temp != None):\n",
        "\t\tif (not temp.data in track):\n",
        "\t\t\tprint(temp.data, end=\" \")\n",
        "\t\t\n",
        "\t\ttrack[temp.data] = True\n",
        "\t\ttemp = temp.next\n",
        "\n",
        "head = None;\n",
        "\t\n",
        "head = push(head, 20);\n",
        "head = push(head, 13);\n",
        "head = push(head, 13);\n",
        "head = push(head, 11);\n",
        "head = push(head, 11);\n",
        "head = push(head, 11);\n",
        "print(\"Linked list before duplicate removal \", end=\" \");\n",
        "printList(head);\n",
        "print(\"\\nLinked list after duplicate removal \", end=\" \");\n",
        "removeDuplicates(head);\n",
        "\n",
        "\n"
      ],
      "metadata": {
        "id": "mnOV-o1-bbhp",
        "colab": {
          "base_uri": "https://localhost:8080/"
        },
        "outputId": "5afa6626-43db-4220-d239-a71b53f3b448"
      },
      "execution_count": 2,
      "outputs": [
        {
          "output_type": "stream",
          "name": "stdout",
          "text": [
            "Linked list before duplicate removal  11 11 11 13 13 20 \n",
            "Linked list after duplicate removal  11 13 20 "
          ]
        }
      ]
    },
    {
      "cell_type": "markdown",
      "source": [
        "Q3 Check if a singly linked list is a palindrome"
      ],
      "metadata": {
        "id": "OjuSXf_zbg-p"
      }
    },
    {
      "cell_type": "code",
      "source": [
        "\n",
        "class Node:\n",
        "\tdef __init__(self,data):\n",
        "\t\t\n",
        "\t\tself.data = data\n",
        "\t\tself.ptr = None\n",
        "\t\t\n",
        "def ispalindrome(head):\n",
        "\t\n",
        "\tslow = head\n",
        "\tstack = []\n",
        "\t\n",
        "\tispalin = True\n",
        "\n",
        "\twhile slow != None:\n",
        "\t\tstack.append(slow.data)\n",
        "\t\t\n",
        "\t\tslow = slow.ptr\n",
        "\n",
        "\twhile head != None:\n",
        "\n",
        "\n",
        "\t\ti = stack.pop()\n",
        "\t\t\n",
        "\t\n",
        "\t\tif head.data == i:\n",
        "\t\t\tispalin = True\n",
        "\t\telse:\n",
        "\t\t\tispalin = False\n",
        "\t\t\tbreak\n",
        "\n",
        "\t\thead = head.ptr\n",
        "\t\t\n",
        "\treturn ispalin\n",
        "\n",
        "one = Node(1)\n",
        "two = Node(2)\n",
        "three = Node(3)\n",
        "four = Node(4)\n",
        "five = Node(3)\n",
        "six = Node(2)\n",
        "seven = Node(1)\n",
        "\n",
        "\n",
        "one.ptr = two\n",
        "two.ptr = three\n",
        "three.ptr = four\n",
        "four.ptr = five\n",
        "five.ptr = six\n",
        "six.ptr = seven\n",
        "seven.ptr = None\n",
        "\n",
        "result = ispalindrome(one)\n",
        "print(\"isPalindrome:\", result)\n",
        "\n"
      ],
      "metadata": {
        "id": "i5d107HDbhNp",
        "outputId": "142181bd-a491-4bc5-a993-b34674227d0b",
        "colab": {
          "base_uri": "https://localhost:8080/"
        }
      },
      "execution_count": 5,
      "outputs": [
        {
          "output_type": "stream",
          "name": "stdout",
          "text": [
            "isPalindrome: True\n"
          ]
        }
      ]
    },
    {
      "cell_type": "markdown",
      "source": [
        "Q4 Merge K sorted linked lists"
      ],
      "metadata": {
        "id": "r72cbU10bhfm"
      }
    },
    {
      "cell_type": "code",
      "source": [
        "class Node:\n",
        "\t\n",
        "\tdef __init__(self):\n",
        "\t\t\n",
        "\t\tself.data = 0\n",
        "\t\tself.next = None\n",
        "\n",
        "\n",
        "def printList(node):\n",
        "\n",
        "\twhile (node != None):\n",
        "\t\tprint(node.data, end = ' ')\n",
        "\t\tnode = node.next\n",
        "\t\n",
        "def SortedMerge(a, b):\n",
        "\n",
        "\tresult = None\n",
        "\n",
        "\tif (a == None):\n",
        "\t\treturn(b)\n",
        "\telif (b == None):\n",
        "\t\treturn(a)\n",
        "\n",
        "\tif (a.data <= b.data):\n",
        "\t\tresult = a\n",
        "\t\tresult.next = SortedMerge(a.next, b)\n",
        "\telse:\n",
        "\t\tresult = b\n",
        "\t\tresult.next = SortedMerge(a, b.next)\n",
        "\t\n",
        "\treturn result\n",
        "\n",
        "def mergeKLists(arr, last):\n",
        "\n",
        "\n",
        "\twhile (last != 0):\n",
        "\t\ti = 0\n",
        "\t\tj = last\n",
        "\n",
        "\t\n",
        "\t\twhile (i < j):\n",
        "\t\t\n",
        "\t\t\tarr[i] = SortedMerge(arr[i], arr[j])\n",
        "\n",
        "\t\t\ti += 1\n",
        "\t\t\tj -= 1\n",
        "\t\t\n",
        "\t\t\tif (i >= j):\n",
        "\t\t\t\tlast = j\n",
        "\n",
        "\treturn arr[0]\n",
        "\n",
        "def newNode(data):\n",
        "\n",
        "\ttemp = Node()\n",
        "\ttemp.data = data\n",
        "\ttemp.next = None\n",
        "\treturn temp\n",
        "\n",
        "if __name__=='__main__':\n",
        "\t\n",
        "\t\n",
        "\tk = 3\n",
        "\tn = 4\n",
        "\tarr = [0 for i in range(k)]\n",
        "\n",
        "\tarr[0] = newNode(1)\n",
        "\tarr[0].next = newNode(3)\n",
        "\tarr[0].next.next = newNode(5)\n",
        "\tarr[0].next.next.next = newNode(7)\n",
        "\n",
        "\tarr[1] = newNode(2)\n",
        "\tarr[1].next = newNode(4)\n",
        "\tarr[1].next.next = newNode(6)\n",
        "\tarr[1].next.next.next = newNode(8)\n",
        "\n",
        "\tarr[2] = newNode(0)\n",
        "\tarr[2].next = newNode(9)\n",
        "\tarr[2].next.next = newNode(10)\n",
        "\tarr[2].next.next.next = newNode(11)\n",
        "\n",
        "\thead = mergeKLists(arr, k - 1)\n",
        "\n",
        "\tprintList(head)\n"
      ],
      "metadata": {
        "id": "IiuzJofxbhuT",
        "outputId": "436f1ce8-dc8f-4415-f754-82a268a99f71",
        "colab": {
          "base_uri": "https://localhost:8080/"
        }
      },
      "execution_count": 4,
      "outputs": [
        {
          "output_type": "stream",
          "name": "stdout",
          "text": [
            "0 1 2 3 4 5 6 7 8 9 10 11 "
          ]
        }
      ]
    },
    {
      "cell_type": "markdown",
      "source": [
        "Q5 Find the intersection point of two linked lists"
      ],
      "metadata": {
        "id": "PY1wBvgdbixN"
      }
    },
    {
      "cell_type": "code",
      "source": [
        "class Node :\n",
        "  def __init__(self, d):\n",
        "    self.data = d\n",
        "    self.next = None\n",
        " \n",
        "\n",
        "def Display(n):\n",
        "  cur = n\n",
        "  while (cur!= None):\n",
        "    print(cur.data, end = \" \")\n",
        "    cur = cur.next\n",
        "  print(\"\")\n",
        " \n",
        "\n",
        "def MergeNode(n1, n2):\n",
        "  hs = set()\n",
        "  while (n1 != None):\n",
        "    hs.add(n1)\n",
        "    n1 = n1.next\n",
        "  while (n2 != None):\n",
        "    if (n2 in hs):\n",
        "      return n2\n",
        "    n2 = n2.next\n",
        "  return None\n",
        " \n",
        "\n",
        " \n",
        "# list 1\n",
        "n1 = Node(1)\n",
        "n1.next = Node(2)\n",
        "n1.next.next = Node(3)\n",
        "n1.next.next.next = Node(4)\n",
        "n1.next.next.next.next = Node(5)\n",
        "n1.next.next.next.next.next = Node(6)\n",
        "n1.next.next.next.next.next.next = Node(7)\n",
        " \n",
        "# list 2\n",
        "n2 = Node(10)\n",
        "n2.next = Node(9)\n",
        "n2.next.next = Node(8)\n",
        "n2.next.next.next = n1.next.next.next\n",
        " \n",
        "Display(n1)\n",
        "Display(n2)\n",
        " \n",
        "print(MergeNode(n1, n2).data)"
      ],
      "metadata": {
        "id": "6W15jI00bjBL",
        "colab": {
          "base_uri": "https://localhost:8080/"
        },
        "outputId": "d616a7bd-593d-4dfb-a75e-7300e9d273a6"
      },
      "execution_count": 3,
      "outputs": [
        {
          "output_type": "stream",
          "name": "stdout",
          "text": [
            "1 2 3 4 5 6 7 \n",
            "10 9 8 4 5 6 7 \n",
            "4\n"
          ]
        }
      ]
    }
  ]
}