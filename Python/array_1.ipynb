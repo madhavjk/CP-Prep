{
  "nbformat": 4,
  "nbformat_minor": 0,
  "metadata": {
    "colab": {
      "name": "array.ipynb",
      "provenance": [],
      "authorship_tag": "ABX9TyME8MIieh2teC76pmKHqC/l",
      "include_colab_link": true
    },
    "kernelspec": {
      "name": "python3",
      "display_name": "Python 3"
    },
    "language_info": {
      "name": "python"
    }
  },
  "cells": [
    {
      "cell_type": "markdown",
      "metadata": {
        "id": "view-in-github",
        "colab_type": "text"
      },
      "source": [
        "<a href=\"https://colab.research.google.com/github/madhavjk/CP-Prep/blob/main/Python/array.ipynb\" target=\"_parent\"><img src=\"https://colab.research.google.com/assets/colab-badge.svg\" alt=\"Open In Colab\"/></a>"
      ]
    },
    {
      "cell_type": "markdown",
      "source": [
        "### **Common arrays interview questions in Python**"
      ],
      "metadata": {
        "id": "Py1QA3TFVglH"
      }
    },
    {
      "cell_type": "markdown",
      "source": [
        " Q1 Remove even intergers from list"
      ],
      "metadata": {
        "id": "tHQmqYNQV70a"
      }
    },
    {
      "cell_type": "code",
      "execution_count": 1,
      "metadata": {
        "colab": {
          "base_uri": "https://localhost:8080/"
        },
        "id": "44Uq-Js1Vbes",
        "outputId": "34269955-b41c-4e1d-c881-6893f3c701e7"
      },
      "outputs": [
        {
          "output_type": "stream",
          "name": "stdout",
          "text": [
            "[3, 5, 7, 9]\n"
          ]
        }
      ],
      "source": [
        "# Q1 Remove even intergers from list\n",
        "\n",
        "def remove_even(list):\n",
        "    \n",
        "    for i in list:\n",
        "        if i%2==0:\n",
        "            list.remove(i)\n",
        "            \n",
        "    print(list)\n",
        "    \n",
        "\n",
        "list = [2,3,4,5,6,7,8,9,]\n",
        "\n",
        "remove_even(list)"
      ]
    },
    {
      "cell_type": "markdown",
      "source": [
        "Q2 Merge two sorted lists"
      ],
      "metadata": {
        "id": "Ps7Z61fgV_8c"
      }
    },
    {
      "cell_type": "code",
      "source": [
        "list1 = [2,3,5,6]\n",
        "list2 = [3,4,6,8]\n",
        "\n",
        "list1.extend(list2)\n",
        "\n",
        "list1\n",
        "\n"
      ],
      "metadata": {
        "colab": {
          "base_uri": "https://localhost:8080/"
        },
        "id": "18rQzbo7WFX0",
        "outputId": "bc092719-d1c5-4aee-e563-84f30b7e84b5"
      },
      "execution_count": 2,
      "outputs": [
        {
          "output_type": "execute_result",
          "data": {
            "text/plain": [
              "[2, 3, 5, 6, 3, 4, 6, 8]"
            ]
          },
          "metadata": {},
          "execution_count": 2
        }
      ]
    },
    {
      "cell_type": "markdown",
      "source": [
        "Q3 Find minimum value in a list"
      ],
      "metadata": {
        "id": "BP7iN28U9vpK"
      }
    },
    {
      "cell_type": "code",
      "source": [
        "import sys\n",
        "\n",
        "def min(a,n):\n",
        "  res = sys.maxsize\n",
        "\n",
        "  for i in range(n):\n",
        "\n",
        "    if a[i]<res:\n",
        "      res = a[i]\n",
        "\n",
        "  return res\n",
        "\n",
        "arr = [3,-4,6,7,8,1,-2]\n",
        "n = len(arr)\n",
        "\n",
        "min(arr,n)"
      ],
      "metadata": {
        "colab": {
          "base_uri": "https://localhost:8080/"
        },
        "id": "qv-c_8a1Yxy9",
        "outputId": "c53272f9-5fed-450b-b523-ca7c17035b33"
      },
      "execution_count": 17,
      "outputs": [
        {
          "output_type": "execute_result",
          "data": {
            "text/plain": [
              "-4"
            ]
          },
          "metadata": {},
          "execution_count": 17
        }
      ]
    },
    {
      "cell_type": "markdown",
      "source": [
        "Q4 Maximum sum sublist"
      ],
      "metadata": {
        "id": "y4LvS5aT91Yq"
      }
    },
    {
      "cell_type": "code",
      "source": [
        "def maxsublist(a, n):\n",
        "\n",
        "  \n",
        "  res = 0\n",
        "  l = []\n",
        "\n",
        "  for i in range(n):\n",
        "    sum = 0\n",
        "\n",
        "    for j in range(i,n):\n",
        "      \n",
        "      sum = sum + a[j]\n",
        "  \n",
        "\n",
        "      if sum>res:\n",
        "\n",
        "\n",
        "        res = sum\n",
        "      \n",
        "  return res\n",
        "\n",
        "a = [-2,1,-3,7,-2,2,1,-5,4]\n",
        "n = len(a)\n",
        "maxsublist(a,n)    \n",
        "    \n",
        "\n"
      ],
      "metadata": {
        "colab": {
          "base_uri": "https://localhost:8080/"
        },
        "id": "UL-odPv7eQSh",
        "outputId": "18d3e95b-a87c-49bd-946d-7ae4bced5357"
      },
      "execution_count": 18,
      "outputs": [
        {
          "output_type": "execute_result",
          "data": {
            "text/plain": [
              "8"
            ]
          },
          "metadata": {},
          "execution_count": 18
        }
      ]
    },
    {
      "cell_type": "markdown",
      "source": [
        "Q5 Print products of all elements"
      ],
      "metadata": {
        "id": "SRTZYxE-9pxt"
      }
    },
    {
      "cell_type": "code",
      "source": [
        "def product(a):\n",
        "\n",
        "  prod =  1\n",
        "\n",
        "  for i in a:\n",
        "    prod = prod*i\n",
        "\n",
        "  return prod\n",
        "\n",
        "a = [3,2,5,6,7]\n",
        "\n",
        "product(a)"
      ],
      "metadata": {
        "colab": {
          "base_uri": "https://localhost:8080/"
        },
        "id": "jZpJb1TA9DdX",
        "outputId": "91e938ff-081e-4793-f7e8-2e159249b4fe"
      },
      "execution_count": 2,
      "outputs": [
        {
          "output_type": "execute_result",
          "data": {
            "text/plain": [
              "1260"
            ]
          },
          "metadata": {},
          "execution_count": 2
        }
      ]
    },
    {
      "cell_type": "code",
      "source": [
        ""
      ],
      "metadata": {
        "id": "7BPZnrR_eQ2u"
      },
      "execution_count": null,
      "outputs": []
    },
    {
      "cell_type": "code",
      "source": [
        ""
      ],
      "metadata": {
        "id": "qwP_ijdteQ58"
      },
      "execution_count": null,
      "outputs": []
    },
    {
      "cell_type": "code",
      "source": [
        ""
      ],
      "metadata": {
        "id": "JfjWTiDheQ9i"
      },
      "execution_count": null,
      "outputs": []
    }
  ]
}
